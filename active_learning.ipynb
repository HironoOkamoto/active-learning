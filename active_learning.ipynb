{
 "cells": [
  {
   "cell_type": "code",
   "execution_count": 1,
   "id": "5b5b7721",
   "metadata": {},
   "outputs": [],
   "source": [
    "import argparse\n",
    "import json\n",
    "\n",
    "import matplotlib.pyplot as plt\n",
    "import numpy as np\n",
    "import time\n",
    "from os.path import join, exists, splitext, basename\n",
    "from tqdm import tqdm\n",
    "import torchvision.transforms as transforms\n",
    "import torchvision\n",
    "import torch.nn as nn\n",
    "import torch\n",
    "from torch.optim import lr_scheduler\n",
    "\n",
    "from utils.utils import BaseExp\n",
    "import timm\n",
    "\n",
    "plt.style.use('ggplot')\n",
    "\n",
    "device = torch.device('cuda' if torch.cuda.is_available() else 'cpu')"
   ]
  },
  {
   "cell_type": "code",
   "execution_count": 11,
   "id": "db7f3a6a",
   "metadata": {},
   "outputs": [
    {
     "data": {
      "text/plain": [
       "0"
      ]
     },
     "execution_count": 11,
     "metadata": {},
     "output_type": "execute_result"
    }
   ],
   "source": [
    "N = 3\n",
    "M = 5\n",
    "\n",
    "1//M == 3-1"
   ]
  },
  {
   "cell_type": "code",
   "execution_count": 5,
   "id": "9a0de3cd",
   "metadata": {},
   "outputs": [
    {
     "name": "stdout",
     "output_type": "stream",
     "text": [
      "[4 0 2 1 3]\n",
      "[1 3 2 4 0]\n",
      "[0.5  0.9  0.3  0.01 0.2 ]\n",
      "[4 0 2 1 3]\n"
     ]
    }
   ],
   "source": [
    "\n",
    "conf = np.array([0.2, 0.5, 0.3, 0.9, 0.01])\n",
    "print(np.argsort(conf))\n",
    "print(np.argsort(np.argsort(conf)))\n",
    "\n",
    "print(conf[np.argsort(np.argsort(conf))])\n",
    "print(np.argsort(np.argsort(np.argsort(conf))))\n"
   ]
  },
  {
   "cell_type": "code",
   "execution_count": 4,
   "id": "82eb890e",
   "metadata": {},
   "outputs": [],
   "source": [
    "parser = argparse.ArgumentParser()\n",
    "parser.add_argument('--expid', '-i', type=str, default='000000')\n",
    "parser.add_argument('--seed', type=int, default=0)\n",
    "parser.add_argument('--data_path', type=str, default='data')\n",
    "parser.add_argument('--static_path', type=str, default='static')\n",
    "parser.add_argument('--epochs', '-e', type=int, default=10)\n",
    "parser.add_argument('--batch_size', '-bs', type=int, default=8)\n",
    "parser.add_argument('--model', '-m', type=str, default='efficientnet_b0')\n",
    "parser.add_argument('--lr', type=float, default=1e-3)\n",
    "\n",
    "args = parser.parse_args([])\n",
    "\n",
    "NCLASS = 10\n",
    "log_dict ={\"train\": np.zeros((args.epochs, 2)), \"test\": np.zeros((args.epochs, 2))}\n",
    "\n",
    "transform_dict = {\n",
    "        'train': transforms.Compose(\n",
    "            [transforms.Resize((224, 224)),\n",
    "             transforms.RandomHorizontalFlip(),\n",
    "             transforms.ToTensor(),\n",
    "             transforms.Normalize(mean=[0.485, 0.456, 0.406],\n",
    "                                  std=[0.229, 0.224, 0.225]),\n",
    "             ]),\n",
    "        'test': transforms.Compose(\n",
    "            [transforms.Resize((224, 224)),\n",
    "             transforms.ToTensor(),\n",
    "             transforms.Normalize(mean=[0.485, 0.456, 0.406],\n",
    "                                  std=[0.229, 0.224, 0.225]),\n",
    "             ])}"
   ]
  },
  {
   "cell_type": "code",
   "execution_count": 82,
   "id": "d18bdb20",
   "metadata": {},
   "outputs": [],
   "source": [
    "import pandas as pd\n",
    "df = pd.DataFrame(np.concatenate([log_dict[\"train\"], log_dict[\"test\"]], axis=1))\n",
    "df.columns = [\"train loss\", \"train acc\", \"test loss\", \"test acc\"]\n",
    "df.to_csv(\"hoge.csv\", index=False)"
   ]
  },
  {
   "cell_type": "code",
   "execution_count": 83,
   "id": "539b3c09",
   "metadata": {},
   "outputs": [
    {
     "data": {
      "text/html": [
       "<div>\n",
       "<style scoped>\n",
       "    .dataframe tbody tr th:only-of-type {\n",
       "        vertical-align: middle;\n",
       "    }\n",
       "\n",
       "    .dataframe tbody tr th {\n",
       "        vertical-align: top;\n",
       "    }\n",
       "\n",
       "    .dataframe thead th {\n",
       "        text-align: right;\n",
       "    }\n",
       "</style>\n",
       "<table border=\"1\" class=\"dataframe\">\n",
       "  <thead>\n",
       "    <tr style=\"text-align: right;\">\n",
       "      <th></th>\n",
       "      <th>train loss</th>\n",
       "      <th>train acc</th>\n",
       "      <th>test loss</th>\n",
       "      <th>test acc</th>\n",
       "    </tr>\n",
       "  </thead>\n",
       "  <tbody>\n",
       "    <tr>\n",
       "      <th>0</th>\n",
       "      <td>0.0</td>\n",
       "      <td>0.0</td>\n",
       "      <td>0.0</td>\n",
       "      <td>0.0</td>\n",
       "    </tr>\n",
       "    <tr>\n",
       "      <th>1</th>\n",
       "      <td>0.0</td>\n",
       "      <td>0.0</td>\n",
       "      <td>0.0</td>\n",
       "      <td>0.0</td>\n",
       "    </tr>\n",
       "    <tr>\n",
       "      <th>2</th>\n",
       "      <td>0.0</td>\n",
       "      <td>0.0</td>\n",
       "      <td>0.0</td>\n",
       "      <td>0.0</td>\n",
       "    </tr>\n",
       "    <tr>\n",
       "      <th>3</th>\n",
       "      <td>0.0</td>\n",
       "      <td>0.0</td>\n",
       "      <td>0.0</td>\n",
       "      <td>0.0</td>\n",
       "    </tr>\n",
       "    <tr>\n",
       "      <th>4</th>\n",
       "      <td>0.0</td>\n",
       "      <td>0.0</td>\n",
       "      <td>0.0</td>\n",
       "      <td>0.0</td>\n",
       "    </tr>\n",
       "    <tr>\n",
       "      <th>5</th>\n",
       "      <td>0.0</td>\n",
       "      <td>0.0</td>\n",
       "      <td>0.0</td>\n",
       "      <td>0.0</td>\n",
       "    </tr>\n",
       "    <tr>\n",
       "      <th>6</th>\n",
       "      <td>0.0</td>\n",
       "      <td>0.0</td>\n",
       "      <td>0.0</td>\n",
       "      <td>0.0</td>\n",
       "    </tr>\n",
       "    <tr>\n",
       "      <th>7</th>\n",
       "      <td>0.0</td>\n",
       "      <td>0.0</td>\n",
       "      <td>0.0</td>\n",
       "      <td>0.0</td>\n",
       "    </tr>\n",
       "    <tr>\n",
       "      <th>8</th>\n",
       "      <td>0.0</td>\n",
       "      <td>0.0</td>\n",
       "      <td>0.0</td>\n",
       "      <td>0.0</td>\n",
       "    </tr>\n",
       "    <tr>\n",
       "      <th>9</th>\n",
       "      <td>0.0</td>\n",
       "      <td>0.0</td>\n",
       "      <td>0.0</td>\n",
       "      <td>0.0</td>\n",
       "    </tr>\n",
       "  </tbody>\n",
       "</table>\n",
       "</div>"
      ],
      "text/plain": [
       "   train loss  train acc  test loss  test acc\n",
       "0         0.0        0.0        0.0       0.0\n",
       "1         0.0        0.0        0.0       0.0\n",
       "2         0.0        0.0        0.0       0.0\n",
       "3         0.0        0.0        0.0       0.0\n",
       "4         0.0        0.0        0.0       0.0\n",
       "5         0.0        0.0        0.0       0.0\n",
       "6         0.0        0.0        0.0       0.0\n",
       "7         0.0        0.0        0.0       0.0\n",
       "8         0.0        0.0        0.0       0.0\n",
       "9         0.0        0.0        0.0       0.0"
      ]
     },
     "execution_count": 83,
     "metadata": {},
     "output_type": "execute_result"
    }
   ],
   "source": [
    "pd.read_csv(\"hoge.csv\")"
   ]
  },
  {
   "cell_type": "code",
   "execution_count": 69,
   "id": "2775888d",
   "metadata": {},
   "outputs": [
    {
     "ename": "AttributeError",
     "evalue": "'str' object has no attribute 'write'",
     "output_type": "error",
     "traceback": [
      "\u001b[0;31m---------------------------------------------------------------------------\u001b[0m",
      "\u001b[0;31mAttributeError\u001b[0m                            Traceback (most recent call last)",
      "\u001b[0;32m<ipython-input-69-66c6aca79b47>\u001b[0m in \u001b[0;36m<module>\u001b[0;34m\u001b[0m\n\u001b[0;32m----> 1\u001b[0;31m \u001b[0mjson\u001b[0m\u001b[0;34m.\u001b[0m\u001b[0mdump\u001b[0m\u001b[0;34m(\u001b[0m\u001b[0;34m{\u001b[0m\u001b[0;36m3\u001b[0m\u001b[0;34m:\u001b[0m \u001b[0;36m3\u001b[0m\u001b[0;34m}\u001b[0m\u001b[0;34m,\u001b[0m \u001b[0;34m\"hoge\"\u001b[0m\u001b[0;34m)\u001b[0m\u001b[0;34m\u001b[0m\u001b[0;34m\u001b[0m\u001b[0m\n\u001b[0m",
      "\u001b[0;32m~/.pyenv/versions/anaconda3-2021.05/lib/python3.8/json/__init__.py\u001b[0m in \u001b[0;36mdump\u001b[0;34m(obj, fp, skipkeys, ensure_ascii, check_circular, allow_nan, cls, indent, separators, default, sort_keys, **kw)\u001b[0m\n\u001b[1;32m    178\u001b[0m     \u001b[0;31m# a debuggability cost\u001b[0m\u001b[0;34m\u001b[0m\u001b[0;34m\u001b[0m\u001b[0;34m\u001b[0m\u001b[0m\n\u001b[1;32m    179\u001b[0m     \u001b[0;32mfor\u001b[0m \u001b[0mchunk\u001b[0m \u001b[0;32min\u001b[0m \u001b[0miterable\u001b[0m\u001b[0;34m:\u001b[0m\u001b[0;34m\u001b[0m\u001b[0;34m\u001b[0m\u001b[0m\n\u001b[0;32m--> 180\u001b[0;31m         \u001b[0mfp\u001b[0m\u001b[0;34m.\u001b[0m\u001b[0mwrite\u001b[0m\u001b[0;34m(\u001b[0m\u001b[0mchunk\u001b[0m\u001b[0;34m)\u001b[0m\u001b[0;34m\u001b[0m\u001b[0;34m\u001b[0m\u001b[0m\n\u001b[0m\u001b[1;32m    181\u001b[0m \u001b[0;34m\u001b[0m\u001b[0m\n\u001b[1;32m    182\u001b[0m \u001b[0;34m\u001b[0m\u001b[0m\n",
      "\u001b[0;31mAttributeError\u001b[0m: 'str' object has no attribute 'write'"
     ]
    }
   ],
   "source": [
    "json.dump({3: 3}, \"hoge\")"
   ]
  },
  {
   "cell_type": "code",
   "execution_count": 57,
   "id": "3d87ced1",
   "metadata": {},
   "outputs": [
    {
     "name": "stdout",
     "output_type": "stream",
     "text": [
      "Files already downloaded and verified\n",
      "Files already downloaded and verified\n"
     ]
    }
   ],
   "source": [
    "dataloader = {}\n",
    "data_size = {}\n",
    "        \n",
    "phase = \"test\"\n",
    "test_dataset = torchvision.datasets.CIFAR10(root=\"data\", train=False, download=True, transform=transform_dict[phase])\n",
    "dataloader[phase] = torch.utils.data.DataLoader(\n",
    "    test_dataset, batch_size=args.batch_size, shuffle=phase==\"train\", num_workers=4)        \n",
    "data_size[phase] = len(test_dataset.targets)\n",
    "\n"
   ]
  },
  {
   "cell_type": "code",
   "execution_count": 21,
   "id": "80f84941",
   "metadata": {},
   "outputs": [
    {
     "ename": "AttributeError",
     "evalue": "'Namespace' object has no attribute 'NCLASS'",
     "output_type": "error",
     "traceback": [
      "\u001b[0;31m---------------------------------------------------------------------------\u001b[0m",
      "\u001b[0;31mAttributeError\u001b[0m                            Traceback (most recent call last)",
      "\u001b[0;32m<ipython-input-21-89fd31948e42>\u001b[0m in \u001b[0;36m<module>\u001b[0;34m\u001b[0m\n\u001b[0;32m----> 1\u001b[0;31m \u001b[0mmodel\u001b[0m \u001b[0;34m=\u001b[0m \u001b[0mtimm\u001b[0m\u001b[0;34m.\u001b[0m\u001b[0mcreate_model\u001b[0m\u001b[0;34m(\u001b[0m\u001b[0margs\u001b[0m\u001b[0;34m.\u001b[0m\u001b[0mmodel\u001b[0m\u001b[0;34m,\u001b[0m \u001b[0mpretrained\u001b[0m\u001b[0;34m=\u001b[0m\u001b[0;32mTrue\u001b[0m\u001b[0;34m,\u001b[0m \u001b[0mnum_classes\u001b[0m\u001b[0;34m=\u001b[0m\u001b[0margs\u001b[0m\u001b[0;34m.\u001b[0m\u001b[0mNCLASS\u001b[0m\u001b[0;34m)\u001b[0m\u001b[0;34m\u001b[0m\u001b[0;34m\u001b[0m\u001b[0m\n\u001b[0m\u001b[1;32m      2\u001b[0m \u001b[0mmodel\u001b[0m \u001b[0;34m=\u001b[0m \u001b[0mmodel\u001b[0m\u001b[0;34m.\u001b[0m\u001b[0mto\u001b[0m\u001b[0;34m(\u001b[0m\u001b[0mdevice\u001b[0m\u001b[0;34m)\u001b[0m\u001b[0;34m\u001b[0m\u001b[0;34m\u001b[0m\u001b[0m\n\u001b[1;32m      3\u001b[0m \u001b[0;34m\u001b[0m\u001b[0m\n\u001b[1;32m      4\u001b[0m \u001b[0moptimizer\u001b[0m \u001b[0;34m=\u001b[0m \u001b[0mtorch\u001b[0m\u001b[0;34m.\u001b[0m\u001b[0moptim\u001b[0m\u001b[0;34m.\u001b[0m\u001b[0mAdam\u001b[0m\u001b[0;34m(\u001b[0m\u001b[0mmodel\u001b[0m\u001b[0;34m.\u001b[0m\u001b[0mparameters\u001b[0m\u001b[0;34m(\u001b[0m\u001b[0;34m)\u001b[0m\u001b[0;34m,\u001b[0m \u001b[0mlr\u001b[0m\u001b[0;34m=\u001b[0m\u001b[0margs\u001b[0m\u001b[0;34m.\u001b[0m\u001b[0mlr\u001b[0m\u001b[0;34m)\u001b[0m\u001b[0;34m\u001b[0m\u001b[0;34m\u001b[0m\u001b[0m\n\u001b[1;32m      5\u001b[0m scheduler = lr_scheduler.MultiStepLR(optimizer,\n",
      "\u001b[0;31mAttributeError\u001b[0m: 'Namespace' object has no attribute 'NCLASS'"
     ]
    }
   ],
   "source": [
    "model = timm.create_model(args.model, pretrained=True, num_classes=args.NCLASS)\n",
    "model = model.to(device)\n",
    "\n",
    "\n",
    "for j in range(10):\n",
    "\n",
    "\n",
    "phase = \"train\"\n",
    "train_dataset = torchvision.datasets.CIFAR10(root=\"data\", train=True, download=True,\n",
    "                                           transform=transform_dict[phase])\n",
    "indices = np.random.permutation(np.arange(len(train_dataset)))\n",
    "subset = Subset(train_dataset, indices[:5000*j])\n",
    "dataloader[phase] = torch.utils.data.DataLoader(\n",
    "    subset, batch_size=args.batch_size, shuffle=phase==\"train\", num_workers=4)\n",
    "data_size[phase] = len(subset.indices)\n",
    "\n",
    "\n",
    "\n",
    "\n",
    "\n",
    "optimizer = torch.optim.Adam(model.parameters(), lr=args.lr)\n",
    "scheduler = lr_scheduler.MultiStepLR(optimizer,\n",
    "                                     milestones=[int(0.8 * args.epochs)],\n",
    "                                     gamma=0.1)\n",
    "criterion = nn.CrossEntropyLoss()\n",
    "\n",
    "start_time = time.time()\n",
    "for epoch in range(args.epochs):\n",
    "    print(f\"epoch: {epoch+1}\")\n",
    "    for phase in ['train', 'test']:\n",
    "        if phase == 'train':\n",
    "            model.train()\n",
    "        else:\n",
    "            model.eval()\n",
    "\n",
    "        epoch_loss = 0.0\n",
    "        running_corrects = 0\n",
    "\n",
    "        for xs, ys in tqdm(dataloader[phase]):\n",
    "            xs = xs.to(device)\n",
    "            ys = ys.to(device)\n",
    "\n",
    "            if phase == \"train\":\n",
    "                outputs = model(xs)\n",
    "                loss = criterion(outputs, ys)\n",
    "\n",
    "                optimizer.zero_grad()\n",
    "                loss.backward()\n",
    "                optimizer.step()\n",
    "\n",
    "            else:\n",
    "                with torch.no_grad():\n",
    "                    outputs = model(xs)\n",
    "                    loss = criterion(outputs, ys)\n",
    "\n",
    "            _, preds = torch.max(outputs.data, 1)\n",
    "\n",
    "            epoch_loss += loss.item()\n",
    "            running_corrects += torch.sum(preds == ys)\n",
    "\n",
    "        epoch_acc = running_corrects.item() / data_size[phase]\n",
    "        epoch_loss /= data_size[phase]\n",
    "\n",
    "        args.log_dict[phase][epoch, 0] = epoch_loss\n",
    "        args.log_dict[phase][epoch, 1] = epoch_acc\n",
    "\n",
    "    scheduler.step()\n",
    "\n",
    "time_elapsed = time.time() - start_time\n",
    "print(f'Training complete in {time_elapsed//60:.0f}m {time_elapsed%60:.0f}s')\n",
    "print(f'Best val acc: {args.best_acc:.4f}')\n",
    "\n",
    "\n",
    "def save_logs(args, epoch):\n",
    "    colors = {'train': 'tab:blue', 'test': 'tab:orange'}\n",
    "    plt.clf()\n",
    "    for phase in [\"train\", \"test\"]:\n",
    "        plt.plot(args.log_dict[phase][:epoch + 1, 0], label=phase, color=colors[phase])\n",
    "    plt.legend()\n",
    "    plt.xlabel('epoch')\n",
    "    plt.title('loss')\n",
    "    plt.savefig(f'{args.exp_path}/loss.png')\n",
    "    plt.close()\n",
    "\n",
    "    plt.clf()\n",
    "    for phase in [\"train\", \"test\"]:\n",
    "        plt.plot(args.log_dict[phase][:epoch + 1, 1], label=phase, color=colors[phase])\n",
    "    xlabel = f'epoch (best epoch {args.best_epoch} eval acc {args.best_acc:.4f})'\n",
    "    plt.legend()\n",
    "    plt.xlabel(xlabel)\n",
    "    plt.title('accuracy')\n",
    "    plt.savefig(f'{args.exp_path}/accuracy.png')\n",
    "    plt.close()\n",
    "\n",
    "    args.cfg[\"acc\"] = f'{args.best_acc:.3f}'\n",
    "    with open(f'{args.exp_path}/cfg.json', 'w') as f:\n",
    "        f.write(json.dumps(args.cfg, indent=4))\n",
    "\n",
    "\n"
   ]
  }
 ],
 "metadata": {
  "kernelspec": {
   "display_name": "Python 3",
   "language": "python",
   "name": "python3"
  },
  "language_info": {
   "codemirror_mode": {
    "name": "ipython",
    "version": 3
   },
   "file_extension": ".py",
   "mimetype": "text/x-python",
   "name": "python",
   "nbconvert_exporter": "python",
   "pygments_lexer": "ipython3",
   "version": "3.8.8"
  }
 },
 "nbformat": 4,
 "nbformat_minor": 5
}
